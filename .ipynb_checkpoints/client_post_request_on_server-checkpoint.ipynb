{
 "cells": [
  {
   "cell_type": "code",
   "execution_count": 1,
   "id": "5d855ec5",
   "metadata": {},
   "outputs": [],
   "source": [
    "import base64\n",
    "import json                  \n",
    "\n",
    "import requests"
   ]
  },
  {
   "cell_type": "code",
   "execution_count": null,
   "id": "e589c587",
   "metadata": {},
   "outputs": [],
   "source": [
    "import base64\n",
    "import json                    \n",
    "\n",
    "import requests\n",
    "\n",
    "api = 'http://127.0.0.1:5000/License_predict'\n",
    "image_file = 'Dataset/2.JPG'\n",
    "\n",
    "with open(image_file, \"rb\") as f:\n",
    "    im_bytes = f.read()        \n",
    "im_b64 = base64.b64encode(im_bytes).decode(\"utf8\")\n",
    "\n",
    "headers = {'Content-type': 'application/json'}\n",
    "  \n",
    "payload = json.dumps({\"image\": im_b64, \"other_key\": \"value\"})\n",
    "response = requests.post(api, data=payload, headers=headers)\n",
    "try:\n",
    "    data = response.json()     \n",
    "    print(data)                \n",
    "except requests.exceptions.RequestException:\n",
    "    print(response.text)"
   ]
  },
  {
   "cell_type": "code",
   "execution_count": null,
   "id": "6bb7fc20",
   "metadata": {},
   "outputs": [],
   "source": [
    "import base64\n",
    "import json                    \n",
    "\n",
    "import requests\n",
    "\n",
    "api = 'http://127.0.0.1:5000/ID_predict'\n",
    "image_file = 'Dataset/14.jpeg'\n",
    "\n",
    "with open(image_file, \"rb\") as f:\n",
    "    im_bytes = f.read()        \n",
    "im_b64 = base64.b64encode(im_bytes).decode(\"utf8\")\n",
    "\n",
    "headers = {'Content-type': 'application/json'}\n",
    "  \n",
    "payload = json.dumps({\"image\": im_b64, \"other_key\": \"value\"})\n",
    "response = requests.post(api, data=payload, headers=headers)\n",
    "try:\n",
    "    data = response.json()     \n",
    "    print(data)                \n",
    "except requests.exceptions.RequestException:\n",
    "    print(response.text)"
   ]
  },
  {
   "cell_type": "code",
   "execution_count": null,
   "id": "f1e0e528",
   "metadata": {},
   "outputs": [],
   "source": [
    "import base64\n",
    "import json                    \n",
    "\n",
    "import requests\n",
    "\n",
    "api = 'http://127.0.0.1:5000/passport_predict'\n",
    "image_file = 'Dataset/21.jpg'\n",
    "\n",
    "with open(image_file, \"rb\") as f:\n",
    "    im_bytes = f.read()        \n",
    "im_b64 = base64.b64encode(im_bytes).decode(\"utf8\")\n",
    "\n",
    "headers = {'Content-type': 'application/json'}\n",
    "  \n",
    "payload = json.dumps({\"image\": im_b64, \"other_key\": \"value\"})\n",
    "response = requests.post(api, data=payload, headers=headers)\n",
    "try:\n",
    "    data = response.json()     \n",
    "    print(data)                \n",
    "except requests.exceptions.RequestException:\n",
    "    print(response.text)"
   ]
  },
  {
   "cell_type": "code",
   "execution_count": null,
   "id": "92975d3d",
   "metadata": {},
   "outputs": [],
   "source": [
    "import base64\n",
    "import json                    \n",
    "\n",
    "import requests\n",
    "\n",
    "api = 'http://127.0.0.1:5000/AOI_predict'\n",
    "image_file = '2.jpg'\n",
    "\n",
    "with open(image_file, \"rb\") as f:\n",
    "    im_bytes = f.read()        \n",
    "im_b64 = base64.b64encode(im_bytes).decode(\"utf8\")\n",
    "\n",
    "headers = {'Content-type': 'application/json'}\n",
    "  \n",
    "payload = json.dumps({\"image\": im_b64, \"other_key\": \"value\"})\n",
    "response = requests.post(api, data=payload, headers=headers)\n",
    "try:\n",
    "    data = response.json()     \n",
    "    print(data)                \n",
    "except requests.exceptions.RequestException:\n",
    "    print(response.text)"
   ]
  }
 ],
 "metadata": {
  "kernelspec": {
   "display_name": "Python 3 (ipykernel)",
   "language": "python",
   "name": "python3"
  },
  "language_info": {
   "codemirror_mode": {
    "name": "ipython",
    "version": 3
   },
   "file_extension": ".py",
   "mimetype": "text/x-python",
   "name": "python",
   "nbconvert_exporter": "python",
   "pygments_lexer": "ipython3",
   "version": "3.9.7"
  }
 },
 "nbformat": 4,
 "nbformat_minor": 5
}
