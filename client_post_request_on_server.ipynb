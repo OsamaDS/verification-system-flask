{
 "cells": [
  {
   "cell_type": "code",
   "execution_count": 2,
   "id": "5d855ec5",
   "metadata": {},
   "outputs": [],
   "source": [
    "import base64\n",
    "import json                  \n",
    "\n",
    "import requests"
   ]
  },
  {
   "cell_type": "code",
   "execution_count": 6,
   "id": "e589c587",
   "metadata": {},
   "outputs": [
    {
     "name": "stdout",
     "output_type": "stream",
     "text": [
      "{'Body output': ['PERMIT NUMBER\\n92023031 ;', '*§', 'DATE OF GIRTH\\n29-03-1988', 'OP IRY DATE\\n31-61-2023'], 'name_address': ['REPUBLIC OF TRINIDAD AND TOBAGO', \"DRIVER'S PERMIT\", 'ADALI HIRAM MC CLEAN', '#15 CICADA orive® ¥', 'EDINBURGH', 'CHAGUANAS een']}\n"
     ]
    }
   ],
   "source": [
    "import base64\n",
    "import json                    \n",
    "\n",
    "import requests\n",
    "\n",
    "api = 'http://5.161.75.137:5000/License_predict'\n",
    "image_file = 'test images/License.jpeg'\n",
    "\n",
    "with open(image_file, \"rb\") as f:\n",
    "    im_bytes = f.read()        \n",
    "im_b64 = base64.b64encode(im_bytes).decode(\"utf8\")\n",
    "\n",
    "headers = {'Content-type': 'application/json'}\n",
    "  \n",
    "payload = json.dumps({\"image\": im_b64, \"other_key\": \"value\"})\n",
    "response = requests.post(api, data=payload, headers=headers)\n",
    "try:\n",
    "    data = response.json()     \n",
    "    print(data)                \n",
    "except requests.exceptions.RequestException:\n",
    "    print(response.text)"
   ]
  },
  {
   "cell_type": "code",
   "execution_count": 8,
   "id": "6bb7fc20",
   "metadata": {},
   "outputs": [
    {
     "name": "stdout",
     "output_type": "stream",
     "text": [
      "{'Body output': ['MC CLEAN HIRAM OLU-DOTUN\\n', ' \\n\\nDATE OF ISSUE EXPIRY DATE\\n\\n2019-10-14 2029-10-14\\n', 'DATE OF BIRTH\\n\\n1990-01-21\\n\\nREGISTRATION No.\\n\\n19900121053\\n', 'CITIZENSHIP STATUS PLACE OF BIRTH\\n\\nTRINIDAD & TOBAGO CANADA\\n', 'SEX COLOUR OF EYES HEIGHT cm\\n\\nM BROWN 172\\n', '', ' \\n\\n| SOCIAL ASSISTANCE No COLOUR OF SKIN\\n\\nDBROWN\\n', ' \\n'], 'name': 'heeeeeeee'}\n"
     ]
    }
   ],
   "source": [
    "import base64\n",
    "import json                    \n",
    "\n",
    "import requests\n",
    "\n",
    "api = 'http://127.0.0.1:5000/ID_predict'\n",
    "image_file = 'test images/ID card.jpeg'\n",
    "\n",
    "with open(image_file, \"rb\") as f:\n",
    "    im_bytes = f.read()        \n",
    "im_b64 = base64.b64encode(im_bytes).decode(\"utf8\")\n",
    "\n",
    "headers = {'Content-type': 'application/json'}\n",
    "  \n",
    "payload = json.dumps({\"image\": im_b64, \"other_key\": \"value\"})\n",
    "response = requests.post(api, data=payload, headers=headers)\n",
    "try:\n",
    "    data = response.json()     \n",
    "    print(data)                \n",
    "except requests.exceptions.RequestException:\n",
    "    print(response.text)"
   ]
  },
  {
   "cell_type": "code",
   "execution_count": null,
   "id": "f1e0e528",
   "metadata": {},
   "outputs": [],
   "source": [
    "import base64\n",
    "import json                    \n",
    "\n",
    "import requests\n",
    "\n",
    "api = 'http://127.0.0.1:5000/passport_predict'\n",
    "image_file = 'Dataset/21.jpg'\n",
    "\n",
    "with open(image_file, \"rb\") as f:\n",
    "    im_bytes = f.read()        \n",
    "im_b64 = base64.b64encode(im_bytes).decode(\"utf8\")\n",
    "\n",
    "headers = {'Content-type': 'application/json'}\n",
    "  \n",
    "payload = json.dumps({\"image\": im_b64, \"other_key\": \"value\"})\n",
    "response = requests.post(api, data=payload, headers=headers)\n",
    "try:\n",
    "    data = response.json()     \n",
    "    print(data)                \n",
    "except requests.exceptions.RequestException:\n",
    "    print(response.text)"
   ]
  },
  {
   "cell_type": "code",
   "execution_count": null,
   "id": "92975d3d",
   "metadata": {},
   "outputs": [],
   "source": [
    "import base64\n",
    "import json                    \n",
    "\n",
    "import requests\n",
    "\n",
    "api = 'http://127.0.0.1:5000/AOI_predict'\n",
    "image_file = '2.jpg'\n",
    "\n",
    "with open(image_file, \"rb\") as f:\n",
    "    im_bytes = f.read()        \n",
    "im_b64 = base64.b64encode(im_bytes).decode(\"utf8\")\n",
    "\n",
    "headers = {'Content-type': 'application/json'}\n",
    "  \n",
    "payload = json.dumps({\"image\": im_b64, \"other_key\": \"value\"})\n",
    "response = requests.post(api, data=payload, headers=headers)\n",
    "try:\n",
    "    data = response.json()     \n",
    "    print(data)                \n",
    "except requests.exceptions.RequestException:\n",
    "    print(response.text)"
   ]
  }
 ],
 "metadata": {
  "kernelspec": {
   "display_name": "Python 3 (ipykernel)",
   "language": "python",
   "name": "python3"
  },
  "language_info": {
   "codemirror_mode": {
    "name": "ipython",
    "version": 3
   },
   "file_extension": ".py",
   "mimetype": "text/x-python",
   "name": "python",
   "nbconvert_exporter": "python",
   "pygments_lexer": "ipython3",
   "version": "3.9.7"
  }
 },
 "nbformat": 4,
 "nbformat_minor": 5
}
